{
  "nbformat": 4,
  "nbformat_minor": 0,
  "metadata": {
    "colab": {
      "provenance": [],
      "authorship_tag": "ABX9TyNdm1T9UnqyGog2M+sfalkY",
      "include_colab_link": true
    },
    "kernelspec": {
      "name": "python3",
      "display_name": "Python 3"
    },
    "language_info": {
      "name": "python"
    }
  },
  "cells": [
    {
      "cell_type": "markdown",
      "metadata": {
        "id": "view-in-github",
        "colab_type": "text"
      },
      "source": [
        "<a href=\"https://colab.research.google.com/github/andreavnessa/NumerosPrimos/blob/main/Untitled0.ipynb\" target=\"_parent\"><img src=\"https://colab.research.google.com/assets/colab-badge.svg\" alt=\"Open In Colab\"/></a>"
      ]
    },
    {
      "cell_type": "code",
      "execution_count": null,
      "metadata": {
        "id": "zfjtfnaw4wMo"
      },
      "outputs": [],
      "source": [
        "# Numeros primos\n",
        "\n",
        "def funciPrimo(x):\n",
        "   if x == 0 or x == 1 or x == 4:\n",
        "       return False\n",
        "   for j in range(2, int(x/2)):\n",
        "       if x%j == 0:\n",
        "           return False\n",
        "   return True\n",
        "\n",
        "num = int(input('Ingresa un numero: '))\n",
        "es_primo = funciPrimo(num)\n",
        "if es_primo:\n",
        "    print('Es primo')\n",
        "else:\n",
        "    print('No es primo')\n",
        "\n",
        "\n",
        "\n"
      ]
    }
  ]
}